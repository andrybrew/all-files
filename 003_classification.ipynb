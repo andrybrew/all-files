{
  "nbformat": 4,
  "nbformat_minor": 0,
  "metadata": {
    "colab": {
      "name": "003-classification.ipynb",
      "provenance": [],
      "include_colab_link": true
    },
    "kernelspec": {
      "name": "python3",
      "display_name": "Python 3"
    }
  },
  "cells": [
    {
      "cell_type": "markdown",
      "metadata": {
        "id": "view-in-github",
        "colab_type": "text"
      },
      "source": [
        "<a href=\"https://colab.research.google.com/github/andrybrew/all-files/blob/master/003_classification.ipynb\" target=\"_parent\"><img src=\"https://colab.research.google.com/assets/colab-badge.svg\" alt=\"Open In Colab\"/></a>"
      ]
    },
    {
      "cell_type": "markdown",
      "metadata": {
        "colab_type": "text",
        "id": "fBxmrdbyf-MZ"
      },
      "source": [
        "## Classification"
      ]
    },
    {
      "cell_type": "code",
      "metadata": {
        "colab_type": "code",
        "id": "pa0blw2s6G7X",
        "colab": {}
      },
      "source": [
        "# Import Library\n",
        "import pandas as pd\n",
        "\n",
        "#Import the files to Google Colab\n",
        "url = 'https://raw.githubusercontent.com/andrybrew/all-files/master/dataset_python/churn_transformed.csv'\n",
        "df_csv = pd.read_csv(url, sep=',')\n",
        "\n",
        "# Show 10 first Row\n",
        "df_csv.head()"
      ],
      "execution_count": 0,
      "outputs": []
    },
    {
      "cell_type": "code",
      "metadata": {
        "id": "0bp6bfnpxFdt",
        "colab_type": "code",
        "colab": {}
      },
      "source": [
        "# Remove \"Unnamed:O\" Coloumn\n",
        "df = df_csv.drop(\"Unnamed: 0\", axis=1)\n",
        "df.head()"
      ],
      "execution_count": 0,
      "outputs": []
    },
    {
      "cell_type": "code",
      "metadata": {
        "id": "kGOqBrwfxGsG",
        "colab_type": "code",
        "colab": {}
      },
      "source": [
        "# Check the Data Infomation\n",
        "df.info()"
      ],
      "execution_count": 0,
      "outputs": []
    },
    {
      "cell_type": "code",
      "metadata": {
        "id": "K2_0S6nfn5oi",
        "colab_type": "code",
        "colab": {}
      },
      "source": [
        "#Import MinMax Scaler\n",
        "from sklearn.preprocessing import MinMaxScaler\n",
        "\n",
        "# initialize min-max scaler\n",
        "mm_scaler = MinMaxScaler()\n",
        "column_names = df.columns.tolist()\n",
        "column_names.remove('Churn')\n",
        "\n",
        "# Transform all attributes\n",
        "df[column_names] = mm_scaler.fit_transform(df[column_names])\n",
        "df.sort_index(inplace=True)\n",
        "df.head()"
      ],
      "execution_count": 0,
      "outputs": []
    },
    {
      "cell_type": "code",
      "metadata": {
        "id": "fvh9CgwTZq94",
        "colab_type": "code",
        "colab": {}
      },
      "source": [
        "# Selecting the Feature, by remove the unused feature \n",
        "feature = ['Churn', 'TotalCharges']\n",
        "train_feature = df.drop(feature, axis=1)\n",
        "\n",
        "# Set The Target\n",
        "train_target = df[\"Churn\"]"
      ],
      "execution_count": 0,
      "outputs": []
    },
    {
      "cell_type": "code",
      "metadata": {
        "id": "TTC0ofHVZto5",
        "colab_type": "code",
        "colab": {}
      },
      "source": [
        "# Show the Feature\n",
        "train_feature.head(5)"
      ],
      "execution_count": 0,
      "outputs": []
    },
    {
      "cell_type": "code",
      "metadata": {
        "id": "a2hR5kYUZwct",
        "colab_type": "code",
        "colab": {}
      },
      "source": [
        "# Split Data\n",
        "from sklearn.model_selection import train_test_split, cross_val_score\n",
        "X_train, X_test, y_train, y_test = train_test_split(train_feature ,train_target, shuffle = True, test_size=0.3, random_state=1)\n",
        "\n",
        "print(X_train.shape)\n",
        "print(X_test.shape)\n",
        "print(y_train.shape)\n",
        "print(y_test.shape)"
      ],
      "execution_count": 0,
      "outputs": []
    },
    {
      "cell_type": "code",
      "metadata": {
        "id": "iaXSTpltZwbH",
        "colab_type": "code",
        "colab": {}
      },
      "source": [
        "# Show the training data\n",
        "X_train.head()"
      ],
      "execution_count": 0,
      "outputs": []
    },
    {
      "cell_type": "markdown",
      "metadata": {
        "id": "XBpuFXsXxoOW",
        "colab_type": "text"
      },
      "source": [
        "#### Decision Tree"
      ]
    },
    {
      "cell_type": "markdown",
      "metadata": {
        "id": "jB0NTjxCZ3hw",
        "colab_type": "text"
      },
      "source": [
        "We use [Scikit Learn DecisionTreeClassifier](https://scikit-learn.org/stable/modules/generated/sklearn.tree.DecisionTreeClassifier.html) function. Below is the default parameter:\n",
        "\n",
        "\n",
        "`DecisionTreeClassifier(criterion=’gini’, splitter=’best’, max_depth=None, min_samples_split=2, min_samples_leaf=1, min_weight_fraction_leaf=0.0, max_features=None, random_state=None, max_leaf_nodes=None, min_impurity_decrease=0.0, min_impurity_split=None, class_weight=None, presort=False)`,\n",
        "\n",
        "An explanation of the decision tree can be seen here.[Medium: Decision Tree](https://medium.com/deep-math-machine-learning-ai/chapter-4-decision-trees-algorithms-b93975f7a1f1)"
      ]
    },
    {
      "cell_type": "code",
      "metadata": {
        "id": "T_97Grv1xHky",
        "colab_type": "code",
        "colab": {}
      },
      "source": [
        "# Import library\n",
        "from sklearn import tree\n",
        "\n",
        "# Train Decision Tree\n",
        "dtc = tree.DecisionTreeClassifier(min_impurity_decrease=0.01)\n",
        "dtc.fit(X_train, y_train)\n",
        "\n",
        "# Predict to Test Data \n",
        "y_preddtc = dtc.predict(X_test)"
      ],
      "execution_count": 0,
      "outputs": []
    },
    {
      "cell_type": "code",
      "metadata": {
        "id": "T4y7RstyxHeP",
        "colab_type": "code",
        "colab": {}
      },
      "source": [
        "# Plot the tree\n",
        "tree.plot_tree(dtc.fit(X_train, y_train), class_names=['0','1']) "
      ],
      "execution_count": 0,
      "outputs": []
    },
    {
      "cell_type": "code",
      "metadata": {
        "colab_type": "code",
        "id": "eAR9uYJCuP6o",
        "colab": {}
      },
      "source": [
        "# Visualize with graphviz\n",
        "\n",
        "from sklearn.externals.six import StringIO  \n",
        "from IPython.display import Image  \n",
        "from sklearn.tree import export_graphviz\n",
        "import pydotplus\n",
        "dot_data = StringIO()\n",
        "export_graphviz(dtc, out_file=dot_data,  \n",
        "                filled=True, rounded=True,\n",
        "                special_characters=True, class_names=['0','1'])\n",
        "graph = pydotplus.graph_from_dot_data(dot_data.getvalue())  \n",
        "Image(graph.create_png())"
      ],
      "execution_count": 0,
      "outputs": []
    },
    {
      "cell_type": "code",
      "metadata": {
        "id": "sYNobAynxOYC",
        "colab_type": "code",
        "colab": {}
      },
      "source": [
        "# Import the metrics class\n",
        "from sklearn import metrics\n",
        "\n",
        "# Show the Confussion Matrix\n",
        "cnf_matrixdtc = metrics.confusion_matrix(y_test, y_preddtc)\n",
        "cnf_matrixdtc"
      ],
      "execution_count": 0,
      "outputs": []
    },
    {
      "cell_type": "code",
      "metadata": {
        "id": "XzC3woEkaFhz",
        "colab_type": "code",
        "colab": {}
      },
      "source": [
        "# Show the Accuracy, Precision, Recall\n",
        "acc_dtc = metrics.accuracy_score(y_test, y_preddtc)\n",
        "prec_dtc = metrics.precision_score(y_test, y_preddtc)\n",
        "rec_dtc = metrics.recall_score(y_test, y_preddtc)\n",
        "f1_dtc = metrics.f1_score(y_test, y_preddtc)\n",
        "kappa_dtc = metrics.cohen_kappa_score(y_test, y_preddtc)\n",
        "\n",
        "print(\"Accuracy:\", acc_dtc )\n",
        "print(\"Precision:\", prec_dtc)\n",
        "print(\"Recall:\", rec_dtc)\n",
        "print(\"F1 Score:\", f1_dtc)\n",
        "print(\"Cohens Kappa Score:\", kappa_dtc)"
      ],
      "execution_count": 0,
      "outputs": []
    },
    {
      "cell_type": "code",
      "metadata": {
        "id": "5PC4OxlGaIpO",
        "colab_type": "code",
        "colab": {}
      },
      "source": [
        "# Cross-validation score\n",
        "cv_iterations = 5\n",
        "cv_score = cross_val_score(dtc, train_feature, train_target, cv=cv_iterations)\n",
        "print('Accuracy with cross-validation (split size = {}): {} (+/- {})'\n",
        "      .format(cv_iterations, round(cv_score.mean(),2), round(cv_score.std() * 2,2)))"
      ],
      "execution_count": 0,
      "outputs": []
    },
    {
      "cell_type": "code",
      "metadata": {
        "id": "RhkuuaY4d2Wb",
        "colab_type": "code",
        "colab": {}
      },
      "source": [
        "# Import Visualization Package\n",
        "import matplotlib.pyplot as plt\n",
        "import warnings\n",
        "warnings.filterwarnings('ignore')\n",
        "plt.rcParams['figure.figsize'] = (7, 7)\n",
        "plt.style.use('ggplot')\n",
        "\n",
        "# Visualize ROC Curve\n",
        "y_pred_probadtc = dtc.predict_proba(X_test)[::,1]\n",
        "fprdtc, tprdtc, _ = metrics.roc_curve(y_test,  y_pred_probadtc)\n",
        "aucdtc = metrics.roc_auc_score(y_test, y_pred_probadtc)\n",
        "plt.plot(fprdtc,tprdtc,label=\"Decision Tree, auc=\"+str(aucdtc))\n",
        "plt.legend(loc=4)\n",
        "plt.show()"
      ],
      "execution_count": 0,
      "outputs": []
    },
    {
      "cell_type": "markdown",
      "metadata": {
        "colab_type": "text",
        "id": "K4XxCpd-g5uY"
      },
      "source": [
        "#### K-Nearest Neighbor"
      ]
    },
    {
      "cell_type": "markdown",
      "metadata": {
        "id": "_5ytZIFmx08j",
        "colab_type": "text"
      },
      "source": [
        "We use Scikit Learn KNeighborsClassifier function. Here is the default parameter:\n",
        "\n",
        "`KNeighborsClassifier(n_neighbors=5, weights=’uniform’, algorithm=’auto’, leaf_size=30, p=2, metric=’minkowski’, metric_params=None, n_jobs=None, **kwargs)`\n",
        "\n",
        "A small value of k means that noise will have a higher influence on the result and a large value make it computationally expensive. Data scientists usually choose as an odd number if the number of classes is 2 and another simple approach to select k is set k=sqrt(n)."
      ]
    },
    {
      "cell_type": "code",
      "metadata": {
        "id": "oQUUa_kDxQ1o",
        "colab_type": "code",
        "colab": {}
      },
      "source": [
        "# Import library\n",
        "from sklearn.neighbors import KNeighborsClassifier\n",
        "\n",
        "# Create KNN Classifier\n",
        "knn = KNeighborsClassifier(n_neighbors= 75)\n",
        "knn.fit(X_train, y_train)\n",
        "\n",
        "# Predict to test data\n",
        "y_predknn = knn.predict(X_test)"
      ],
      "execution_count": 0,
      "outputs": []
    },
    {
      "cell_type": "code",
      "metadata": {
        "id": "XIpNkbW3xR4-",
        "colab_type": "code",
        "colab": {}
      },
      "source": [
        "# Show the Confussion Matrix\n",
        "cnf_matrixknn = metrics.confusion_matrix(y_test, y_predknn)\n",
        "cnf_matrixknn"
      ],
      "execution_count": 0,
      "outputs": []
    },
    {
      "cell_type": "code",
      "metadata": {
        "id": "iJZZJApKBjRK",
        "colab_type": "code",
        "colab": {}
      },
      "source": [
        "# Show the Accuracy, Precision, Recall\n",
        "acc_knn = metrics.accuracy_score(y_test, y_predknn)\n",
        "prec_knn = metrics.precision_score(y_test, y_predknn)\n",
        "rec_knn = metrics.recall_score(y_test, y_predknn)\n",
        "f1_knn = metrics.f1_score(y_test, y_predknn)\n",
        "kappa_knn = metrics.cohen_kappa_score(y_test, y_predknn)\n",
        "\n",
        "print(\"Accuracy:\", acc_knn)\n",
        "print(\"Precision:\", prec_knn)\n",
        "print(\"Recall:\", rec_knn)\n",
        "print(\"F1 Score:\", f1_knn)\n",
        "print(\"Cohens Kappa Score:\", kappa_knn)"
      ],
      "execution_count": 0,
      "outputs": []
    },
    {
      "cell_type": "code",
      "metadata": {
        "id": "VYn7aCFbxWnN",
        "colab_type": "code",
        "colab": {}
      },
      "source": [
        "# Cross-validation score\n",
        "cv_iterations = 10\n",
        "cv_score = cross_val_score(knn, train_feature, train_target, cv=cv_iterations)\n",
        "print('Accuracy with cross-validation (split size = {}): {} (+/- {})'\n",
        "      .format(cv_iterations, round(cv_score.mean(),2), round(cv_score.std() * 2,2)))"
      ],
      "execution_count": 0,
      "outputs": []
    },
    {
      "cell_type": "code",
      "metadata": {
        "id": "S2SnZntbBS5_",
        "colab_type": "code",
        "colab": {}
      },
      "source": [
        "# ROC Curve\n",
        "y_pred_probaknn = knn.predict_proba(X_test)[::,1]\n",
        "fprknn, tprknn, _ = metrics.roc_curve(y_test,  y_pred_probaknn)\n",
        "aucknn = metrics.roc_auc_score(y_test, y_pred_probaknn)\n",
        "plt.plot(fprknn,tprknn,label=\"K-NN, auc=\"+str(aucknn))\n",
        "plt.legend(loc=4)\n",
        "plt.show()"
      ],
      "execution_count": 0,
      "outputs": []
    },
    {
      "cell_type": "markdown",
      "metadata": {
        "colab_type": "text",
        "id": "YhW2slDFhDid"
      },
      "source": [
        "#### Naive Bayes"
      ]
    },
    {
      "cell_type": "markdown",
      "metadata": {
        "id": "nOtGq06Yx5m-",
        "colab_type": "text"
      },
      "source": [
        "We use Scikit Learn [GaussianNB](https://scikit-learn.org/stable/modules/generated/sklearn.naive_bayes.GaussianNB.html) function. Here is the default parameter:\n",
        "\n",
        "`class sklearn.naive_bayes.GaussianNB(priors=None, var_smoothing=1e-09`\n"
      ]
    },
    {
      "cell_type": "code",
      "metadata": {
        "id": "dhyV9oiBxYaR",
        "colab_type": "code",
        "colab": {}
      },
      "source": [
        "from sklearn.naive_bayes import GaussianNB \n",
        "\n",
        "# Train Naive Bayes Model\n",
        "gnb = GaussianNB()\n",
        "gnb.fit(X_train, y_train)\n",
        "y_predgnb= gnb.predict(X_test)"
      ],
      "execution_count": 0,
      "outputs": []
    },
    {
      "cell_type": "code",
      "metadata": {
        "id": "x5hK9_mKxaGy",
        "colab_type": "code",
        "colab": {}
      },
      "source": [
        "# Show the Confussion Matrix\n",
        "cnf_matrixgnb = metrics.confusion_matrix(y_test, y_predgnb)\n",
        "cnf_matrixgnb"
      ],
      "execution_count": 0,
      "outputs": []
    },
    {
      "cell_type": "code",
      "metadata": {
        "id": "ZUBWww1Wxb8E",
        "colab_type": "code",
        "colab": {}
      },
      "source": [
        "# Show the Accuracy, Precision, Recall\n",
        "acc_gnb = metrics.accuracy_score(y_test, y_predgnb)\n",
        "prec_gnb = metrics.precision_score(y_test, y_predgnb)\n",
        "rec_gnb = metrics.recall_score(y_test, y_predgnb)\n",
        "f1_gnb = metrics.f1_score(y_test, y_predgnb)\n",
        "kappa_gnb = metrics.cohen_kappa_score(y_test, y_predgnb)\n",
        "\n",
        "print(\"Accuracy:\", acc_gnb)\n",
        "print(\"Precision:\", prec_gnb)\n",
        "print(\"Recall:\", rec_gnb)\n",
        "print(\"F1 Score:\", f1_gnb)\n",
        "print(\"Cohens Kappa Score:\", kappa_gnb)"
      ],
      "execution_count": 0,
      "outputs": []
    },
    {
      "cell_type": "code",
      "metadata": {
        "id": "iZKLtnmnxda1",
        "colab_type": "code",
        "colab": {}
      },
      "source": [
        "# Cross-validation score\n",
        "cv_iterations = 10\n",
        "cv_score = cross_val_score(gnb, train_feature, train_target, cv=cv_iterations)\n",
        "print('Accuracy with cross-validation (split size = {}): {} (+/- {})'\n",
        "      .format(cv_iterations, round(cv_score.mean(),2), round(cv_score.std() * 2,2)))"
      ],
      "execution_count": 0,
      "outputs": []
    },
    {
      "cell_type": "code",
      "metadata": {
        "id": "QvjEOHVoeaKY",
        "colab_type": "code",
        "colab": {}
      },
      "source": [
        "# ROC Curve\n",
        "y_pred_probagnb = gnb.predict_proba(X_test)[::,1]\n",
        "fprgnb, tprgnb, _ = metrics.roc_curve(y_test,  y_pred_probagnb)\n",
        "aucgnb = metrics.roc_auc_score(y_test, y_pred_probagnb)\n",
        "plt.plot(fprgnb,tprgnb,label=\"Naive Bayes, auc=\"+str(aucgnb))\n",
        "plt.legend(loc=4)\n",
        "plt.show()"
      ],
      "execution_count": 0,
      "outputs": []
    },
    {
      "cell_type": "markdown",
      "metadata": {
        "colab_type": "text",
        "id": "MmF6cti8ya6Y"
      },
      "source": [
        "#### Model Comparison"
      ]
    },
    {
      "cell_type": "code",
      "metadata": {
        "id": "1Mbup_VsxfE3",
        "colab_type": "code",
        "colab": {}
      },
      "source": [
        "# Comparing Model Performance\n",
        "print(\"Decision Tree Accuracy =\",acc_dtc)\n",
        "print(\"Decision Tree Precision =\",prec_dtc)\n",
        "print(\"Decision Tree Recall =\",rec_dtc)\n",
        "print(\"Decision Tree F1-Score =\", f1_dtc)\n",
        "print(\"_______________________\")\n",
        "print(\"k-NN Accuracy =\", acc_knn)\n",
        "print(\"k-NN Precision =\", prec_knn)\n",
        "print(\"k-NN Recall =\", rec_knn)\n",
        "print(\"k-NN F1-Score =\", f1_knn)\n",
        "print(\"_______________________\")\n",
        "print(\"Naive Bayes Accuracy =\", acc_gnb)\n",
        "print(\"Naive Bayes Precision =\", prec_gnb)\n",
        "print(\"Naive Bayes Recall =\", rec_gnb)\n",
        "print(\"Naive Bayes F1-Score =\", f1_gnb)"
      ],
      "execution_count": 0,
      "outputs": []
    },
    {
      "cell_type": "code",
      "metadata": {
        "id": "o3vmPWKqagI6",
        "colab_type": "code",
        "colab": {}
      },
      "source": [
        "# Comparing ROC Curve\n",
        "plt.plot(fprdtc,tprdtc,label=\"Decision Tree, auc=\"+str(aucdtc))\n",
        "plt.plot(fprknn,tprknn,label=\"K-NN, auc=\"+str(aucknn))\n",
        "plt.plot(fprgnb,tprgnb,label=\"Naive Bayes, auc=\"+str(aucgnb))\n",
        "plt.legend(loc=4)\n",
        "plt.show()"
      ],
      "execution_count": 0,
      "outputs": []
    }
  ]
}