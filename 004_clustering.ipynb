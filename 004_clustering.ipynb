{
  "nbformat": 4,
  "nbformat_minor": 0,
  "metadata": {
    "colab": {
      "name": "004-clustering.ipynb",
      "provenance": [],
      "include_colab_link": true
    },
    "kernelspec": {
      "name": "python3",
      "display_name": "Python 3"
    }
  },
  "cells": [
    {
      "cell_type": "markdown",
      "metadata": {
        "id": "view-in-github",
        "colab_type": "text"
      },
      "source": [
        "<a href=\"https://colab.research.google.com/github/andrybrew/all-files/blob/master/004_clustering.ipynb\" target=\"_parent\"><img src=\"https://colab.research.google.com/assets/colab-badge.svg\" alt=\"Open In Colab\"/></a>"
      ]
    },
    {
      "cell_type": "markdown",
      "metadata": {
        "id": "OkGom3b6iiy0",
        "colab_type": "text"
      },
      "source": [
        "### Clustering"
      ]
    },
    {
      "cell_type": "markdown",
      "metadata": {
        "id": "IrWXAyk7qQ4u",
        "colab_type": "text"
      },
      "source": [
        "#### K-Means Clustering"
      ]
    },
    {
      "cell_type": "code",
      "metadata": {
        "id": "CKs-IbKBpgcO",
        "colab_type": "code",
        "colab": {}
      },
      "source": [
        "# Import Library\n",
        "import numpy as np\n",
        "import pandas as pd\n",
        "import matplotlib.pyplot as plt\n",
        "\n",
        "#Plot styling\n",
        "import seaborn as sns; sns.set()  # for plot styling\n",
        "\n",
        "plt.rcParams['figure.figsize'] = (16, 9)\n",
        "plt.style.use('ggplot')"
      ],
      "execution_count": 0,
      "outputs": []
    },
    {
      "cell_type": "code",
      "metadata": {
        "id": "onw9MVUJphxP",
        "colab_type": "code",
        "colab": {}
      },
      "source": [
        "# Import Dataset\n",
        "dataset = pd.read_csv('https://raw.githubusercontent.com/andrybrew/all-files/master/dataset_python/human_development_index.csv')"
      ],
      "execution_count": 0,
      "outputs": []
    },
    {
      "cell_type": "code",
      "metadata": {
        "id": "VMXN_KDQpjIj",
        "colab_type": "code",
        "colab": {}
      },
      "source": [
        "# Show 10 Rows of Dataset\n",
        "dataset.head(10)"
      ],
      "execution_count": 0,
      "outputs": []
    },
    {
      "cell_type": "code",
      "metadata": {
        "id": "WfJaOYA1pln_",
        "colab_type": "code",
        "colab": {}
      },
      "source": [
        "# Show lenght of Dataset\n",
        "len(dataset) "
      ],
      "execution_count": 0,
      "outputs": []
    },
    {
      "cell_type": "code",
      "metadata": {
        "id": "ItBsDQo6puwv",
        "colab_type": "code",
        "colab": {}
      },
      "source": [
        "# Statistics Descriptive\n",
        "dataset.describe().transpose()"
      ],
      "execution_count": 0,
      "outputs": []
    },
    {
      "cell_type": "code",
      "metadata": {
        "id": "ZPtgRNJApyKX",
        "colab_type": "code",
        "colab": {}
      },
      "source": [
        "# Plotting the values to understand the spread\n",
        "hdi = dataset['HDI'].values\n",
        "revenue = dataset['REVENUE'].values\n",
        "X = np.array(list(zip(hdi, revenue)))\n",
        "plt.scatter(hdi, revenue, s=100)"
      ],
      "execution_count": 0,
      "outputs": []
    },
    {
      "cell_type": "code",
      "metadata": {
        "id": "61IHqkSipzfT",
        "colab_type": "code",
        "colab": {}
      },
      "source": [
        "#Elbow\n",
        "from sklearn.cluster import KMeans\n",
        "wcss = []\n",
        "for i in range(1,11):\n",
        "    km=KMeans(n_clusters=i,init='k-means++', max_iter=300, n_init=10, random_state=0)\n",
        "    km.fit(X)\n",
        "    wcss.append(km.inertia_)\n",
        "plt.plot(range(1,11),wcss)\n",
        "plt.title('Elbow Method')\n",
        "plt.xlabel('Number of clusters')\n",
        "plt.ylabel('wcss')\n",
        "plt.show()"
      ],
      "execution_count": 0,
      "outputs": []
    },
    {
      "cell_type": "code",
      "metadata": {
        "id": "ysAJ82tKp1SX",
        "colab_type": "code",
        "colab": {}
      },
      "source": [
        "#Silhoutte\n",
        "from sklearn.metrics import silhouette_score\n",
        "from sklearn.cluster import KMeans\n",
        "\n",
        "for n_cluster in range(2, 11):\n",
        "    kmeans = KMeans(n_clusters=n_cluster).fit(X)\n",
        "    label = kmeans.labels_\n",
        "    sil_coeff = silhouette_score(X, label, metric='euclidean')\n",
        "    print(\"For n_clusters={}, The Silhouette Coefficient is {}\".format(n_cluster, sil_coeff))"
      ],
      "execution_count": 0,
      "outputs": []
    },
    {
      "cell_type": "code",
      "metadata": {
        "id": "2eKJqds7p3Vq",
        "colab_type": "code",
        "colab": {}
      },
      "source": [
        "# Fitting Model with K-Means\n",
        "km2=KMeans(n_clusters=2,init='k-means++', max_iter=300, n_init=10, random_state=0)\n",
        "y_means = km2.fit_predict(X)"
      ],
      "execution_count": 0,
      "outputs": []
    },
    {
      "cell_type": "code",
      "metadata": {
        "id": "VUItTENwp4vd",
        "colab_type": "code",
        "colab": {}
      },
      "source": [
        "# Visualising the clusters for k=2\n",
        "plt.scatter(X[y_means==0,0],X[y_means==0,1],s=50, label='Cluster1')\n",
        "plt.scatter(X[y_means==1,0],X[y_means==1,1],s=50, label='Cluster2')\n",
        "\n",
        "\n",
        "plt.scatter(km2.cluster_centers_[:,0], km2.cluster_centers_[:,1],s=200,marker='s', alpha=0.7, label='Centroids')\n",
        "plt.title('City segments')\n",
        "plt.xlabel('Human Development Index')\n",
        "plt.ylabel('Revenue')\n",
        "plt.legend()\n",
        "plt.show()"
      ],
      "execution_count": 0,
      "outputs": []
    }
  ]
}