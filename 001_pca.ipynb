{
  "nbformat": 4,
  "nbformat_minor": 0,
  "metadata": {
    "colab": {
      "name": "001-pca.ipynb",
      "provenance": [],
      "include_colab_link": true
    },
    "kernelspec": {
      "name": "python3",
      "display_name": "Python 3"
    }
  },
  "cells": [
    {
      "cell_type": "markdown",
      "metadata": {
        "id": "view-in-github",
        "colab_type": "text"
      },
      "source": [
        "<a href=\"https://colab.research.google.com/github/andrybrew/all-files/blob/master/001_pca.ipynb\" target=\"_parent\"><img src=\"https://colab.research.google.com/assets/colab-badge.svg\" alt=\"Open In Colab\"/></a>"
      ]
    },
    {
      "cell_type": "markdown",
      "metadata": {
        "id": "70ltsg6GgpaO",
        "colab_type": "text"
      },
      "source": [
        "### Principal Component Analysis"
      ]
    },
    {
      "cell_type": "code",
      "metadata": {
        "id": "tin6C331gpaO",
        "colab_type": "code",
        "colab": {}
      },
      "source": [
        "# Here we are using inbuilt dataset of scikit learn \n",
        "from sklearn.datasets import load_breast_cancer \n",
        "  \n",
        "# instantiating \n",
        "cancer = load_breast_cancer() \n",
        "  \n",
        "# creating dataframe \n",
        "df_pca = pd.DataFrame(cancer['data'], columns = cancer['feature_names']) \n",
        "  \n",
        "# checking head of dataframe \n",
        "df_pca.head() "
      ],
      "execution_count": 0,
      "outputs": []
    },
    {
      "cell_type": "code",
      "metadata": {
        "id": "xB7CHiDqgpaQ",
        "colab_type": "code",
        "colab": {}
      },
      "source": [
        "# Importing standardscalar module \n",
        "from sklearn.preprocessing import StandardScaler \n",
        "\n",
        "scalar = StandardScaler() \n",
        "\n",
        "# fitting \n",
        "scalar.fit(df_pca) \n",
        "scaled_data = scalar.transform(df_pca) \n",
        "\n",
        "# Importing PCA \n",
        "from sklearn.decomposition import PCA \n",
        "\n",
        "# Let's say, components = 2 \n",
        "pca = PCA(n_components = 2) \n",
        "pca.fit(scaled_data) \n",
        "x_pca = pca.transform(scaled_data) \n",
        "\n",
        "x_pca.shape \n"
      ],
      "execution_count": 0,
      "outputs": []
    },
    {
      "cell_type": "code",
      "metadata": {
        "id": "FZVLNCMvgpaS",
        "colab_type": "code",
        "colab": {}
      },
      "source": [
        "# Plot \n",
        "plt.scatter(x_pca[:, 0], x_pca[:, 1], c = cancer['target'], cmap ='plasma') \n",
        "\n",
        "# labeling x and y axes \n",
        "plt.xlabel('First Principal Component') \n",
        "plt.ylabel('Second Principal Component') \n"
      ],
      "execution_count": 0,
      "outputs": []
    },
    {
      "cell_type": "code",
      "metadata": {
        "id": "zES_2R_IgpaT",
        "colab_type": "code",
        "colab": {}
      },
      "source": [
        "# plotting heatmap\n",
        "df_comp = pd.DataFrame(pca.components_, columns = cancer['feature_names']) \n",
        "sns.heatmap(df_comp) "
      ],
      "execution_count": 0,
      "outputs": []
    }
  ]
}