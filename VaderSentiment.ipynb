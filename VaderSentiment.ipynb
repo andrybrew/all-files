{
  "nbformat": 4,
  "nbformat_minor": 0,
  "metadata": {
    "colab": {
      "name": "Sentiment Analysis.ipynb",
      "provenance": [],
      "include_colab_link": true
    },
    "kernelspec": {
      "name": "python3",
      "display_name": "Python 3"
    }
  },
  "cells": [
    {
      "cell_type": "markdown",
      "metadata": {
        "id": "view-in-github",
        "colab_type": "text"
      },
      "source": [
        "<a href=\"https://colab.research.google.com/github/andrybrew/all-files/blob/master/VaderSentiment.ipynb\" target=\"_parent\"><img src=\"https://colab.research.google.com/assets/colab-badge.svg\" alt=\"Open In Colab\"/></a>"
      ]
    },
    {
      "cell_type": "markdown",
      "metadata": {
        "id": "QYmp622rh-tc",
        "colab_type": "text"
      },
      "source": [
        "##Import Library"
      ]
    },
    {
      "cell_type": "code",
      "metadata": {
        "id": "gZC7sIOvhLkD",
        "colab_type": "code",
        "outputId": "7bd3873d-e422-4f4d-e2d2-897baad46726",
        "colab": {
          "base_uri": "https://localhost:8080/",
          "height": 121
        }
      },
      "source": [
        "#Install Library\n",
        "!pip install vaderSentiment"
      ],
      "execution_count": 0,
      "outputs": [
        {
          "output_type": "stream",
          "text": [
            "Collecting vaderSentiment\n",
            "\u001b[?25l  Downloading https://files.pythonhosted.org/packages/44/a3/1218a3b5651dbcba1699101c84e5c84c36cbba360d9dbf29f2ff18482982/vaderSentiment-3.3.1-py2.py3-none-any.whl (125kB)\n",
            "\u001b[K     |████████████████████████████████| 133kB 2.5MB/s \n",
            "\u001b[?25hInstalling collected packages: vaderSentiment\n",
            "Successfully installed vaderSentiment-3.3.1\n"
          ],
          "name": "stdout"
        }
      ]
    },
    {
      "cell_type": "code",
      "metadata": {
        "id": "akevYOvYhMqD",
        "colab_type": "code",
        "outputId": "51efda2c-b824-4c34-dd49-31ee2f469b55",
        "colab": {
          "base_uri": "https://localhost:8080/",
          "height": 70
        }
      },
      "source": [
        "#Import Library\n",
        "import pandas as pd\n",
        "from nltk.sentiment.vader import SentimentIntensityAnalyzer"
      ],
      "execution_count": 0,
      "outputs": [
        {
          "output_type": "stream",
          "text": [
            "/usr/local/lib/python3.6/dist-packages/nltk/twitter/__init__.py:20: UserWarning: The twython library has not been installed. Some functionality from the twitter package will not be available.\n",
            "  warnings.warn(\"The twython library has not been installed. \"\n"
          ],
          "name": "stderr"
        }
      ]
    },
    {
      "cell_type": "markdown",
      "metadata": {
        "id": "lCGAzlQqh5_m",
        "colab_type": "text"
      },
      "source": [
        "##Import Data"
      ]
    },
    {
      "cell_type": "code",
      "metadata": {
        "id": "-dYWIffzhb4S",
        "colab_type": "code",
        "colab": {}
      },
      "source": [
        "#Import Data\n",
        "data = pd.read_csv(\"/content/chrysler_cleaning.csv\")"
      ],
      "execution_count": 0,
      "outputs": []
    },
    {
      "cell_type": "code",
      "metadata": {
        "id": "P7pG-XNthyOo",
        "colab_type": "code",
        "outputId": "40bbcffe-859e-41b8-8207-75e4390aa992",
        "colab": {
          "base_uri": "https://localhost:8080/",
          "height": 195
        }
      },
      "source": [
        "data.head()"
      ],
      "execution_count": 0,
      "outputs": [
        {
          "output_type": "execute_result",
          "data": {
            "text/html": [
              "<div>\n",
              "<style scoped>\n",
              "    .dataframe tbody tr th:only-of-type {\n",
              "        vertical-align: middle;\n",
              "    }\n",
              "\n",
              "    .dataframe tbody tr th {\n",
              "        vertical-align: top;\n",
              "    }\n",
              "\n",
              "    .dataframe thead th {\n",
              "        text-align: right;\n",
              "    }\n",
              "</style>\n",
              "<table border=\"1\" class=\"dataframe\">\n",
              "  <thead>\n",
              "    <tr style=\"text-align: right;\">\n",
              "      <th></th>\n",
              "      <th>publish_date</th>\n",
              "      <th>filename</th>\n",
              "      <th>title</th>\n",
              "      <th>text</th>\n",
              "    </tr>\n",
              "  </thead>\n",
              "  <tbody>\n",
              "    <tr>\n",
              "      <th>0</th>\n",
              "      <td>12/18/2019 0:00</td>\n",
              "      <td>chrysler_nytimes.com.txt</td>\n",
              "      <td>Fiat Chrysler and Peugeot Agree on Terms to Fo...</td>\n",
              "      <td>Fiat Chrysler and PSA of France said Wednesday...</td>\n",
              "    </tr>\n",
              "    <tr>\n",
              "      <th>1</th>\n",
              "      <td>10/31/2019 0:00</td>\n",
              "      <td>chrysler_nytimes.com.txt</td>\n",
              "      <td>Fiat Chrysler and Peugeot Planned Merger: A Bi...</td>\n",
              "      <td>Carlos Tavares, the chief of PSA, is to be the...</td>\n",
              "    </tr>\n",
              "    <tr>\n",
              "      <th>2</th>\n",
              "      <td>NaN</td>\n",
              "      <td>chrysler_nytimes.com.txt</td>\n",
              "      <td>Fiat Chrysler Automobiles N.V.</td>\n",
              "      <td>California to Stop Buying From Automakers That...</td>\n",
              "    </tr>\n",
              "    <tr>\n",
              "      <th>3</th>\n",
              "      <td>6/10/2019 0:00</td>\n",
              "      <td>chrysler_nytimes.com.txt</td>\n",
              "      <td>Fiat Chrysler in Deal for Self-Driving Car Tec...</td>\n",
              "      <td>Just days after breaking off merger talks with...</td>\n",
              "    </tr>\n",
              "    <tr>\n",
              "      <th>4</th>\n",
              "      <td>10/30/2019 0:00</td>\n",
              "      <td>chrysler_nytimes.com.txt</td>\n",
              "      <td>Fiat Chrysler and Peugeot Parent Are Expected ...</td>\n",
              "      <td>After the merger, which will be an all-stock d...</td>\n",
              "    </tr>\n",
              "  </tbody>\n",
              "</table>\n",
              "</div>"
            ],
            "text/plain": [
              "      publish_date  ...                                               text\n",
              "0  12/18/2019 0:00  ...  Fiat Chrysler and PSA of France said Wednesday...\n",
              "1  10/31/2019 0:00  ...  Carlos Tavares, the chief of PSA, is to be the...\n",
              "2              NaN  ...  California to Stop Buying From Automakers That...\n",
              "3   6/10/2019 0:00  ...  Just days after breaking off merger talks with...\n",
              "4  10/30/2019 0:00  ...  After the merger, which will be an all-stock d...\n",
              "\n",
              "[5 rows x 4 columns]"
            ]
          },
          "metadata": {
            "tags": []
          },
          "execution_count": 87
        }
      ]
    },
    {
      "cell_type": "code",
      "metadata": {
        "id": "huk6nZDjh15j",
        "colab_type": "code",
        "outputId": "3d604797-1e79-47bd-a346-b2fbac21d17b",
        "colab": {
          "base_uri": "https://localhost:8080/",
          "height": 34
        }
      },
      "source": [
        "data.shape"
      ],
      "execution_count": 0,
      "outputs": [
        {
          "output_type": "execute_result",
          "data": {
            "text/plain": [
              "(359, 4)"
            ]
          },
          "metadata": {
            "tags": []
          },
          "execution_count": 88
        }
      ]
    },
    {
      "cell_type": "markdown",
      "metadata": {
        "id": "e_EiTvfsiHw6",
        "colab_type": "text"
      },
      "source": [
        "##Select Column"
      ]
    },
    {
      "cell_type": "code",
      "metadata": {
        "id": "Wc9Vz6YqiHAn",
        "colab_type": "code",
        "outputId": "b8bdfb39-f4c2-46af-b401-b88675bae2bf",
        "colab": {
          "base_uri": "https://localhost:8080/",
          "height": 34
        }
      },
      "source": [
        "data.columns"
      ],
      "execution_count": 0,
      "outputs": [
        {
          "output_type": "execute_result",
          "data": {
            "text/plain": [
              "Index(['publish_date', 'filename', 'title', 'text'], dtype='object')"
            ]
          },
          "metadata": {
            "tags": []
          },
          "execution_count": 89
        }
      ]
    },
    {
      "cell_type": "code",
      "metadata": {
        "id": "bQq2F-Z0iO4v",
        "colab_type": "code",
        "colab": {}
      },
      "source": [
        "columns = (['filename', 'text', 'publish_date'])\n",
        "data = pd.DataFrame(data.drop(columns,axis=1,inplace=False))"
      ],
      "execution_count": 0,
      "outputs": []
    },
    {
      "cell_type": "code",
      "metadata": {
        "id": "Bii75RAiizSW",
        "colab_type": "code",
        "outputId": "a6008452-f8c5-48d6-9e72-5333e6a31f21",
        "colab": {
          "base_uri": "https://localhost:8080/",
          "height": 195
        }
      },
      "source": [
        "data.head()"
      ],
      "execution_count": 0,
      "outputs": [
        {
          "output_type": "execute_result",
          "data": {
            "text/html": [
              "<div>\n",
              "<style scoped>\n",
              "    .dataframe tbody tr th:only-of-type {\n",
              "        vertical-align: middle;\n",
              "    }\n",
              "\n",
              "    .dataframe tbody tr th {\n",
              "        vertical-align: top;\n",
              "    }\n",
              "\n",
              "    .dataframe thead th {\n",
              "        text-align: right;\n",
              "    }\n",
              "</style>\n",
              "<table border=\"1\" class=\"dataframe\">\n",
              "  <thead>\n",
              "    <tr style=\"text-align: right;\">\n",
              "      <th></th>\n",
              "      <th>title</th>\n",
              "    </tr>\n",
              "  </thead>\n",
              "  <tbody>\n",
              "    <tr>\n",
              "      <th>0</th>\n",
              "      <td>Fiat Chrysler and Peugeot Agree on Terms to Fo...</td>\n",
              "    </tr>\n",
              "    <tr>\n",
              "      <th>1</th>\n",
              "      <td>Fiat Chrysler and Peugeot Planned Merger: A Bi...</td>\n",
              "    </tr>\n",
              "    <tr>\n",
              "      <th>2</th>\n",
              "      <td>Fiat Chrysler Automobiles N.V.</td>\n",
              "    </tr>\n",
              "    <tr>\n",
              "      <th>3</th>\n",
              "      <td>Fiat Chrysler in Deal for Self-Driving Car Tec...</td>\n",
              "    </tr>\n",
              "    <tr>\n",
              "      <th>4</th>\n",
              "      <td>Fiat Chrysler and Peugeot Parent Are Expected ...</td>\n",
              "    </tr>\n",
              "  </tbody>\n",
              "</table>\n",
              "</div>"
            ],
            "text/plain": [
              "                                               title\n",
              "0  Fiat Chrysler and Peugeot Agree on Terms to Fo...\n",
              "1  Fiat Chrysler and Peugeot Planned Merger: A Bi...\n",
              "2                     Fiat Chrysler Automobiles N.V.\n",
              "3  Fiat Chrysler in Deal for Self-Driving Car Tec...\n",
              "4  Fiat Chrysler and Peugeot Parent Are Expected ..."
            ]
          },
          "metadata": {
            "tags": []
          },
          "execution_count": 91
        }
      ]
    },
    {
      "cell_type": "markdown",
      "metadata": {
        "id": "Ce6eIbGKlvl_",
        "colab_type": "text"
      },
      "source": [
        "##PreProcessing"
      ]
    },
    {
      "cell_type": "markdown",
      "metadata": {
        "id": "ea4GL_qLoDW_",
        "colab_type": "text"
      },
      "source": [
        "###LowerCasing"
      ]
    },
    {
      "cell_type": "code",
      "metadata": {
        "id": "O2hG6sjBnANS",
        "colab_type": "code",
        "colab": {}
      },
      "source": [
        "#Change Title to String\n",
        "data['title'] = data['title'].astype(str)"
      ],
      "execution_count": 0,
      "outputs": []
    },
    {
      "cell_type": "code",
      "metadata": {
        "id": "uhFgX7sNnxJG",
        "colab_type": "code",
        "outputId": "98a7d179-9b10-4a3c-9719-0824b2175cc0",
        "colab": {
          "base_uri": "https://localhost:8080/",
          "height": 34
        }
      },
      "source": [
        "##Before Lowercasing\n",
        "data['title'][2]"
      ],
      "execution_count": 0,
      "outputs": [
        {
          "output_type": "execute_result",
          "data": {
            "text/plain": [
              "'Fiat Chrysler Automobiles N.V.'"
            ]
          },
          "metadata": {
            "tags": []
          },
          "execution_count": 93
        }
      ]
    },
    {
      "cell_type": "code",
      "metadata": {
        "id": "8qWzWDEroK75",
        "colab_type": "code",
        "outputId": "61088ef1-8b3c-4273-fee4-b72575dba9d7",
        "colab": {
          "base_uri": "https://localhost:8080/",
          "height": 34
        }
      },
      "source": [
        "## Lowercase all reviews\n",
        "data['title'] = data['title'].apply(lambda x: \" \".join(x.lower() for x in x.split()))\n",
        "data['title'][2] ## to see the difference"
      ],
      "execution_count": 0,
      "outputs": [
        {
          "output_type": "execute_result",
          "data": {
            "text/plain": [
              "'fiat chrysler automobiles n.v.'"
            ]
          },
          "metadata": {
            "tags": []
          },
          "execution_count": 94
        }
      ]
    },
    {
      "cell_type": "code",
      "metadata": {
        "id": "tr0Fd41xyQ53",
        "colab_type": "code",
        "outputId": "df907e61-cf38-4e97-ca17-5edc2d4d4467",
        "colab": {
          "base_uri": "https://localhost:8080/",
          "height": 195
        }
      },
      "source": [
        "data.head()"
      ],
      "execution_count": 0,
      "outputs": [
        {
          "output_type": "execute_result",
          "data": {
            "text/html": [
              "<div>\n",
              "<style scoped>\n",
              "    .dataframe tbody tr th:only-of-type {\n",
              "        vertical-align: middle;\n",
              "    }\n",
              "\n",
              "    .dataframe tbody tr th {\n",
              "        vertical-align: top;\n",
              "    }\n",
              "\n",
              "    .dataframe thead th {\n",
              "        text-align: right;\n",
              "    }\n",
              "</style>\n",
              "<table border=\"1\" class=\"dataframe\">\n",
              "  <thead>\n",
              "    <tr style=\"text-align: right;\">\n",
              "      <th></th>\n",
              "      <th>title</th>\n",
              "    </tr>\n",
              "  </thead>\n",
              "  <tbody>\n",
              "    <tr>\n",
              "      <th>0</th>\n",
              "      <td>fiat chrysler and peugeot agree on terms to fo...</td>\n",
              "    </tr>\n",
              "    <tr>\n",
              "      <th>1</th>\n",
              "      <td>fiat chrysler and peugeot planned merger: a bi...</td>\n",
              "    </tr>\n",
              "    <tr>\n",
              "      <th>2</th>\n",
              "      <td>fiat chrysler automobiles n.v.</td>\n",
              "    </tr>\n",
              "    <tr>\n",
              "      <th>3</th>\n",
              "      <td>fiat chrysler in deal for self-driving car tec...</td>\n",
              "    </tr>\n",
              "    <tr>\n",
              "      <th>4</th>\n",
              "      <td>fiat chrysler and peugeot parent are expected ...</td>\n",
              "    </tr>\n",
              "  </tbody>\n",
              "</table>\n",
              "</div>"
            ],
            "text/plain": [
              "                                               title\n",
              "0  fiat chrysler and peugeot agree on terms to fo...\n",
              "1  fiat chrysler and peugeot planned merger: a bi...\n",
              "2                     fiat chrysler automobiles n.v.\n",
              "3  fiat chrysler in deal for self-driving car tec...\n",
              "4  fiat chrysler and peugeot parent are expected ..."
            ]
          },
          "metadata": {
            "tags": []
          },
          "execution_count": 95
        }
      ]
    },
    {
      "cell_type": "markdown",
      "metadata": {
        "id": "hkOE2fChzFFy",
        "colab_type": "text"
      },
      "source": [
        "###Special Character"
      ]
    },
    {
      "cell_type": "code",
      "metadata": {
        "id": "Oxrqp4be7YkH",
        "colab_type": "code",
        "outputId": "e1212436-06cd-48b2-9d61-342e70d55d7b",
        "colab": {
          "base_uri": "https://localhost:8080/",
          "height": 218
        }
      },
      "source": [
        "import string\n",
        "\n",
        "printable = set(string.printable)\n",
        "\n",
        "def remove_spec_chars(in_str):\n",
        "    return ''.join([c for c in in_str if c in printable])\n",
        "\n",
        "data['title'].apply(remove_spec_chars)"
      ],
      "execution_count": 0,
      "outputs": [
        {
          "output_type": "execute_result",
          "data": {
            "text/plain": [
              "0      fiat chrysler and peugeot agree on terms to fo...\n",
              "1      fiat chrysler and peugeot planned merger: a bi...\n",
              "2                         fiat chrysler automobiles n.v.\n",
              "3      fiat chrysler in deal for self-driving car tec...\n",
              "4      fiat chrysler and peugeot parent are expected ...\n",
              "                             ...                        \n",
              "354            chryslers can be hacked over the internet\n",
              "355         chrysler 200: mid-size package, better looks\n",
              "356          gear shift confusion causes chrysler recall\n",
              "357                      chrysler agrees to recall jeeps\n",
              "358               fiat 500: the car that saved chrysler?\n",
              "Name: title, Length: 359, dtype: object"
            ]
          },
          "metadata": {
            "tags": []
          },
          "execution_count": 96
        }
      ]
    },
    {
      "cell_type": "markdown",
      "metadata": {
        "id": "qKXeNt32lnoM",
        "colab_type": "text"
      },
      "source": [
        "##Sentiment Analysis"
      ]
    },
    {
      "cell_type": "code",
      "metadata": {
        "id": "mEa3xwALhD2T",
        "colab_type": "code",
        "outputId": "fe7bbecb-dcc5-4e3f-a3fc-841f1e62d469",
        "colab": {
          "base_uri": "https://localhost:8080/",
          "height": 67
        }
      },
      "source": [
        "# Import library for Text Analytics\n",
        "import nltk\n",
        "nltk.download('vader_lexicon')"
      ],
      "execution_count": 0,
      "outputs": [
        {
          "output_type": "stream",
          "text": [
            "[nltk_data] Downloading package vader_lexicon to /root/nltk_data...\n",
            "[nltk_data]   Package vader_lexicon is already up-to-date!\n"
          ],
          "name": "stdout"
        },
        {
          "output_type": "execute_result",
          "data": {
            "text/plain": [
              "True"
            ]
          },
          "metadata": {
            "tags": []
          },
          "execution_count": 97
        }
      ]
    },
    {
      "cell_type": "code",
      "metadata": {
        "id": "dISYmHJxhHzF",
        "colab_type": "code",
        "outputId": "bf2bf2f8-e23b-4896-956b-8f766d1b605a",
        "colab": {
          "base_uri": "https://localhost:8080/",
          "height": 343
        }
      },
      "source": [
        "# Sentiment Analysis\n",
        "sid = SentimentIntensityAnalyzer()\n",
        "listy = [] \n",
        "for index, row in data.iterrows():\n",
        "  data['title']\n",
        "  ss = sid.polarity_scores(row['title'])\n",
        "  listy.append(ss)\n",
        "  \n",
        "se = pd.Series(listy)\n",
        "data['polarity'] = se.values\n",
        "display(data.head(10))"
      ],
      "execution_count": 0,
      "outputs": [
        {
          "output_type": "display_data",
          "data": {
            "text/html": [
              "<div>\n",
              "<style scoped>\n",
              "    .dataframe tbody tr th:only-of-type {\n",
              "        vertical-align: middle;\n",
              "    }\n",
              "\n",
              "    .dataframe tbody tr th {\n",
              "        vertical-align: top;\n",
              "    }\n",
              "\n",
              "    .dataframe thead th {\n",
              "        text-align: right;\n",
              "    }\n",
              "</style>\n",
              "<table border=\"1\" class=\"dataframe\">\n",
              "  <thead>\n",
              "    <tr style=\"text-align: right;\">\n",
              "      <th></th>\n",
              "      <th>title</th>\n",
              "      <th>polarity</th>\n",
              "    </tr>\n",
              "  </thead>\n",
              "  <tbody>\n",
              "    <tr>\n",
              "      <th>0</th>\n",
              "      <td>fiat chrysler and peugeot agree on terms to fo...</td>\n",
              "      <td>{'neg': 0.0, 'neu': 0.815, 'pos': 0.185, 'comp...</td>\n",
              "    </tr>\n",
              "    <tr>\n",
              "      <th>1</th>\n",
              "      <td>fiat chrysler and peugeot planned merger: a bi...</td>\n",
              "      <td>{'neg': 0.247, 'neu': 0.753, 'pos': 0.0, 'comp...</td>\n",
              "    </tr>\n",
              "    <tr>\n",
              "      <th>2</th>\n",
              "      <td>fiat chrysler automobiles n.v.</td>\n",
              "      <td>{'neg': 0.0, 'neu': 1.0, 'pos': 0.0, 'compound...</td>\n",
              "    </tr>\n",
              "    <tr>\n",
              "      <th>3</th>\n",
              "      <td>fiat chrysler in deal for self-driving car tec...</td>\n",
              "      <td>{'neg': 0.0, 'neu': 1.0, 'pos': 0.0, 'compound...</td>\n",
              "    </tr>\n",
              "    <tr>\n",
              "      <th>4</th>\n",
              "      <td>fiat chrysler and peugeot parent are expected ...</td>\n",
              "      <td>{'neg': 0.0, 'neu': 1.0, 'pos': 0.0, 'compound...</td>\n",
              "    </tr>\n",
              "    <tr>\n",
              "      <th>5</th>\n",
              "      <td>how fiat chrysler sped from laggard to leader ...</td>\n",
              "      <td>{'neg': 0.0, 'neu': 1.0, 'pos': 0.0, 'compound...</td>\n",
              "    </tr>\n",
              "    <tr>\n",
              "      <th>6</th>\n",
              "      <td>u.a.w. and fiat chrysler reach tentative labor...</td>\n",
              "      <td>{'neg': 0.0, 'neu': 0.864, 'pos': 0.136, 'comp...</td>\n",
              "    </tr>\n",
              "    <tr>\n",
              "      <th>7</th>\n",
              "      <td>impeachment, fiat chrysler, ‘star wars’: your ...</td>\n",
              "      <td>{'neg': 0.0, 'neu': 1.0, 'pos': 0.0, 'compound...</td>\n",
              "    </tr>\n",
              "    <tr>\n",
              "      <th>8</th>\n",
              "      <td>g.m. sues rival over bribery scheme as union s...</td>\n",
              "      <td>{'neg': 0.236, 'neu': 0.65, 'pos': 0.114, 'com...</td>\n",
              "    </tr>\n",
              "    <tr>\n",
              "      <th>9</th>\n",
              "      <td>chrysler’s turbulent history</td>\n",
              "      <td>{'neg': 0.0, 'neu': 1.0, 'pos': 0.0, 'compound...</td>\n",
              "    </tr>\n",
              "  </tbody>\n",
              "</table>\n",
              "</div>"
            ],
            "text/plain": [
              "                                               title                                           polarity\n",
              "0  fiat chrysler and peugeot agree on terms to fo...  {'neg': 0.0, 'neu': 0.815, 'pos': 0.185, 'comp...\n",
              "1  fiat chrysler and peugeot planned merger: a bi...  {'neg': 0.247, 'neu': 0.753, 'pos': 0.0, 'comp...\n",
              "2                     fiat chrysler automobiles n.v.  {'neg': 0.0, 'neu': 1.0, 'pos': 0.0, 'compound...\n",
              "3  fiat chrysler in deal for self-driving car tec...  {'neg': 0.0, 'neu': 1.0, 'pos': 0.0, 'compound...\n",
              "4  fiat chrysler and peugeot parent are expected ...  {'neg': 0.0, 'neu': 1.0, 'pos': 0.0, 'compound...\n",
              "5  how fiat chrysler sped from laggard to leader ...  {'neg': 0.0, 'neu': 1.0, 'pos': 0.0, 'compound...\n",
              "6  u.a.w. and fiat chrysler reach tentative labor...  {'neg': 0.0, 'neu': 0.864, 'pos': 0.136, 'comp...\n",
              "7  impeachment, fiat chrysler, ‘star wars’: your ...  {'neg': 0.0, 'neu': 1.0, 'pos': 0.0, 'compound...\n",
              "8  g.m. sues rival over bribery scheme as union s...  {'neg': 0.236, 'neu': 0.65, 'pos': 0.114, 'com...\n",
              "9                       chrysler’s turbulent history  {'neg': 0.0, 'neu': 1.0, 'pos': 0.0, 'compound..."
            ]
          },
          "metadata": {
            "tags": []
          }
        }
      ]
    },
    {
      "cell_type": "markdown",
      "metadata": {
        "id": "3QCKCoqHz7nn",
        "colab_type": "text"
      },
      "source": [
        "###Visualization"
      ]
    },
    {
      "cell_type": "code",
      "metadata": {
        "id": "XvN0c3J9zvPT",
        "colab_type": "code",
        "outputId": "90cefd56-084e-42dc-a949-5c678a2b9b37",
        "colab": {
          "base_uri": "https://localhost:8080/",
          "height": 248
        }
      },
      "source": [
        "import matplotlib.pyplot as plt\n",
        "labels = ['negative', 'neutral', 'positive']\n",
        "sizes  = [ss['neg'], ss['neu'], ss['pos']]\n",
        "plt.pie(sizes, labels=labels, autopct='%1.1f%%')\n",
        "plt.axis('equal') \n",
        "plt.show()"
      ],
      "execution_count": 0,
      "outputs": [
        {
          "output_type": "display_data",
          "data": {
            "image/png": "[encoded data removed]",
            "text/plain": [
              "<Figure size 432x288 with 1 Axes>"
            ]
          },
          "metadata": {
            "tags": []
          }
        }
      ]
    },
    {
      "cell_type": "markdown",
      "metadata": {
        "id": "lW_YHFkszUxI",
        "colab_type": "text"
      },
      "source": [
        "###Save to CSV"
      ]
    },
    {
      "cell_type": "code",
      "metadata": {
        "id": "u2scLhNwqhS-",
        "colab_type": "code",
        "colab": {}
      },
      "source": [
        "data.to_csv('chrysler_Polarity.csv', index=False)"
      ],
      "execution_count": 0,
      "outputs": []
    }
  ]
}